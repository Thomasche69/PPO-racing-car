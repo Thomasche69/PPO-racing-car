{
 "cells": [
  {
   "cell_type": "code",
   "execution_count": 1,
   "metadata": {},
   "outputs": [
    {
     "name": "stderr",
     "output_type": "stream",
     "text": [
      "/Users/xiaomeiwang/Desktop/DeepRL/rlenvglobal/lib/python3.9/site-packages/tqdm/auto.py:21: TqdmWarning: IProgress not found. Please update jupyter and ipywidgets. See https://ipywidgets.readthedocs.io/en/stable/user_install.html\n",
      "  from .autonotebook import tqdm as notebook_tqdm\n"
     ]
    }
   ],
   "source": [
    "from stable_baselines3 import PPO\n",
    "from stable_baselines3.common.vec_env import DummyVecEnv\n",
    "from stable_baselines3.common.evaluation import evaluate_policy\n",
    "import gymnasium as gym\n",
    "import optuna\n",
    "import torch.nn as nn"
   ]
  },
  {
   "cell_type": "code",
   "execution_count": 23,
   "metadata": {},
   "outputs": [],
   "source": [
    "env = DummyVecEnv([lambda: gym.make(\"CarRacing-v3\") for _ in range(8)])"
   ]
  },
  {
   "cell_type": "code",
   "execution_count": 25,
   "metadata": {},
   "outputs": [
    {
     "ename": "",
     "evalue": "",
     "output_type": "error",
     "traceback": [
      "\u001b[1;31mCanceled future for execute_request message before replies were done"
     ]
    },
    {
     "ename": "",
     "evalue": "",
     "output_type": "error",
     "traceback": [
      "\u001b[1;31mThe Kernel crashed while executing code in the the current cell or a previous cell. Please review the code in the cell(s) to identify a possible cause of the failure. Click <a href='https://aka.ms/vscodeJupyterKernelCrash'>here</a> for more info. View Jupyter <a href='command:jupyter.viewOutput'>log</a> for further details."
     ]
    }
   ],
   "source": [
    "\n",
    "\n",
    "\n",
    "policy_kwargs = {\n",
    "    \"net_arch\": [256,256],  # Three hidden layers\n",
    "    \"activation_fn\" : nn.GELU,\n",
    "    \"log_std_init\": -2,\n",
    "}\n",
    "# Initialize the PPO agent with the environment\n",
    "model = PPO(\n",
    "    policy=\"CnnPolicy\",  # Multi-layer perceptron policy\n",
    "    env=env,             # Environment\n",
    "    verbose=1,           # Logging level\n",
    "    learning_rate= 1e-4,  # Learning rate\n",
    "    gamma=0.99,          # Discount factor\n",
    "    n_steps=512,        # Number of steps to run for each environment per update\n",
    "    batch_size=128,       # Mini-batch size\n",
    "    gae_lambda=0.95,         # lambda\n",
    "    ent_coef=0.0,\n",
    "    clip_range= 0.2,\n",
    "    n_epochs= 10,\n",
    "    sde_sample_freq = 4,\n",
    "    vf_coef =  0.5,\n",
    "    max_grad_norm =  0.5,\n",
    "    policy_kwargs= policy_kwargs,\n",
    ")\n",
    "\n",
    "# Train the agent\n",
    "model.learn(total_timesteps=1500000)  # Train for 1,500,000 steps\n",
    "\n",
    "# Save the model\n",
    "model.save(\"ppo_carracingtest_best\")\n"
   ]
  },
  {
   "cell_type": "code",
   "execution_count": 20,
   "metadata": {},
   "outputs": [
    {
     "name": "stdout",
     "output_type": "stream",
     "text": [
      "Wrapping the env with a `Monitor` wrapper\n",
      "Wrapping the env in a DummyVecEnv.\n",
      "Wrapping the env in a VecTransposeImage.\n",
      "Mean Reward = 870.5882054790854, Std Reward = 0.0\n"
     ]
    }
   ],
   "source": [
    "env = gym.make(\"CarRacing-v3\")\n",
    "model = PPO.load(\"ppo_carracing_best\", env = env)\n",
    "env.reset()\n",
    "mean_reward, std_reward = evaluate_policy(model, env, n_eval_episodes=1)\n",
    "print(f\"Mean Reward = {mean_reward}, Std Reward = {std_reward}\")\n"
   ]
  },
  {
   "cell_type": "code",
   "execution_count": 21,
   "metadata": {},
   "outputs": [
    {
     "name": "stdout",
     "output_type": "stream",
     "text": [
      "Wrapping the env with a `Monitor` wrapper\n",
      "Wrapping the env in a DummyVecEnv.\n",
      "Wrapping the env in a VecTransposeImage.\n"
     ]
    },
    {
     "ename": "KeyboardInterrupt",
     "evalue": "",
     "output_type": "error",
     "traceback": [
      "\u001b[0;31m---------------------------------------------------------------------------\u001b[0m",
      "\u001b[0;31mKeyboardInterrupt\u001b[0m                         Traceback (most recent call last)",
      "Cell \u001b[0;32mIn[21], line 13\u001b[0m\n\u001b[1;32m     11\u001b[0m \u001b[39mwhile\u001b[39;00m \u001b[39mnot\u001b[39;00m done:\n\u001b[1;32m     12\u001b[0m     action, _states \u001b[39m=\u001b[39m model\u001b[39m.\u001b[39mpredict(obs, deterministic\u001b[39m=\u001b[39m\u001b[39mTrue\u001b[39;00m)\n\u001b[0;32m---> 13\u001b[0m     obs, reward, done, truncated, info \u001b[39m=\u001b[39m env\u001b[39m.\u001b[39;49mstep(action)\n\u001b[1;32m     15\u001b[0m env\u001b[39m.\u001b[39mclose()\n",
      "File \u001b[0;32m~/Desktop/DeepRL/rlenvglobal/lib/python3.9/site-packages/gymnasium/wrappers/rendering.py:356\u001b[0m, in \u001b[0;36mRecordVideo.step\u001b[0;34m(self, action)\u001b[0m\n\u001b[1;32m    354\u001b[0m     \u001b[39mself\u001b[39m\u001b[39m.\u001b[39mstart_recording(\u001b[39mf\u001b[39m\u001b[39m\"\u001b[39m\u001b[39m{\u001b[39;00m\u001b[39mself\u001b[39m\u001b[39m.\u001b[39mname_prefix\u001b[39m}\u001b[39;00m\u001b[39m-step-\u001b[39m\u001b[39m{\u001b[39;00m\u001b[39mself\u001b[39m\u001b[39m.\u001b[39mstep_id\u001b[39m}\u001b[39;00m\u001b[39m\"\u001b[39m)\n\u001b[1;32m    355\u001b[0m \u001b[39mif\u001b[39;00m \u001b[39mself\u001b[39m\u001b[39m.\u001b[39mrecording:\n\u001b[0;32m--> 356\u001b[0m     \u001b[39mself\u001b[39;49m\u001b[39m.\u001b[39;49m_capture_frame()\n\u001b[1;32m    358\u001b[0m     \u001b[39mif\u001b[39;00m \u001b[39mlen\u001b[39m(\u001b[39mself\u001b[39m\u001b[39m.\u001b[39mrecorded_frames) \u001b[39m>\u001b[39m \u001b[39mself\u001b[39m\u001b[39m.\u001b[39mvideo_length:\n\u001b[1;32m    359\u001b[0m         \u001b[39mself\u001b[39m\u001b[39m.\u001b[39mstop_recording()\n",
      "File \u001b[0;32m~/Desktop/DeepRL/rlenvglobal/lib/python3.9/site-packages/gymnasium/wrappers/rendering.py:312\u001b[0m, in \u001b[0;36mRecordVideo._capture_frame\u001b[0;34m(self)\u001b[0m\n\u001b[1;32m    309\u001b[0m \u001b[39mdef\u001b[39;00m \u001b[39m_capture_frame\u001b[39m(\u001b[39mself\u001b[39m):\n\u001b[1;32m    310\u001b[0m     \u001b[39massert\u001b[39;00m \u001b[39mself\u001b[39m\u001b[39m.\u001b[39mrecording, \u001b[39m\"\u001b[39m\u001b[39mCannot capture a frame, recording wasn\u001b[39m\u001b[39m'\u001b[39m\u001b[39mt started.\u001b[39m\u001b[39m\"\u001b[39m\n\u001b[0;32m--> 312\u001b[0m     frame \u001b[39m=\u001b[39m \u001b[39mself\u001b[39;49m\u001b[39m.\u001b[39;49menv\u001b[39m.\u001b[39;49mrender()\n\u001b[1;32m    313\u001b[0m     \u001b[39mif\u001b[39;00m \u001b[39misinstance\u001b[39m(frame, List):\n\u001b[1;32m    314\u001b[0m         \u001b[39mif\u001b[39;00m \u001b[39mlen\u001b[39m(frame) \u001b[39m==\u001b[39m \u001b[39m0\u001b[39m:  \u001b[39m# render was called\u001b[39;00m\n",
      "File \u001b[0;32m~/Desktop/DeepRL/rlenvglobal/lib/python3.9/site-packages/gymnasium/core.py:332\u001b[0m, in \u001b[0;36mWrapper.render\u001b[0;34m(self)\u001b[0m\n\u001b[1;32m    330\u001b[0m \u001b[39mdef\u001b[39;00m \u001b[39mrender\u001b[39m(\u001b[39mself\u001b[39m) \u001b[39m-\u001b[39m\u001b[39m>\u001b[39m RenderFrame \u001b[39m|\u001b[39m \u001b[39mlist\u001b[39m[RenderFrame] \u001b[39m|\u001b[39m \u001b[39mNone\u001b[39;00m:\n\u001b[1;32m    331\u001b[0m \u001b[39m    \u001b[39m\u001b[39m\"\"\"Uses the :meth:`render` of the :attr:`env` that can be overwritten to change the returned data.\"\"\"\u001b[39;00m\n\u001b[0;32m--> 332\u001b[0m     \u001b[39mreturn\u001b[39;00m \u001b[39mself\u001b[39;49m\u001b[39m.\u001b[39;49menv\u001b[39m.\u001b[39;49mrender()\n",
      "File \u001b[0;32m~/Desktop/DeepRL/rlenvglobal/lib/python3.9/site-packages/gymnasium/wrappers/common.py:409\u001b[0m, in \u001b[0;36mOrderEnforcing.render\u001b[0;34m(self)\u001b[0m\n\u001b[1;32m    404\u001b[0m \u001b[39mif\u001b[39;00m \u001b[39mnot\u001b[39;00m \u001b[39mself\u001b[39m\u001b[39m.\u001b[39m_disable_render_order_enforcing \u001b[39mand\u001b[39;00m \u001b[39mnot\u001b[39;00m \u001b[39mself\u001b[39m\u001b[39m.\u001b[39m_has_reset:\n\u001b[1;32m    405\u001b[0m     \u001b[39mraise\u001b[39;00m ResetNeeded(\n\u001b[1;32m    406\u001b[0m         \u001b[39m\"\u001b[39m\u001b[39mCannot call `env.render()` before calling `env.reset()`, if this is an intended action, \u001b[39m\u001b[39m\"\u001b[39m\n\u001b[1;32m    407\u001b[0m         \u001b[39m\"\u001b[39m\u001b[39mset `disable_render_order_enforcing=True` on the OrderEnforcer wrapper.\u001b[39m\u001b[39m\"\u001b[39m\n\u001b[1;32m    408\u001b[0m     )\n\u001b[0;32m--> 409\u001b[0m \u001b[39mreturn\u001b[39;00m \u001b[39msuper\u001b[39;49m()\u001b[39m.\u001b[39;49mrender()\n",
      "File \u001b[0;32m~/Desktop/DeepRL/rlenvglobal/lib/python3.9/site-packages/gymnasium/core.py:332\u001b[0m, in \u001b[0;36mWrapper.render\u001b[0;34m(self)\u001b[0m\n\u001b[1;32m    330\u001b[0m \u001b[39mdef\u001b[39;00m \u001b[39mrender\u001b[39m(\u001b[39mself\u001b[39m) \u001b[39m-\u001b[39m\u001b[39m>\u001b[39m RenderFrame \u001b[39m|\u001b[39m \u001b[39mlist\u001b[39m[RenderFrame] \u001b[39m|\u001b[39m \u001b[39mNone\u001b[39;00m:\n\u001b[1;32m    331\u001b[0m \u001b[39m    \u001b[39m\u001b[39m\"\"\"Uses the :meth:`render` of the :attr:`env` that can be overwritten to change the returned data.\"\"\"\u001b[39;00m\n\u001b[0;32m--> 332\u001b[0m     \u001b[39mreturn\u001b[39;00m \u001b[39mself\u001b[39;49m\u001b[39m.\u001b[39;49menv\u001b[39m.\u001b[39;49mrender()\n",
      "File \u001b[0;32m~/Desktop/DeepRL/rlenvglobal/lib/python3.9/site-packages/gymnasium/wrappers/common.py:303\u001b[0m, in \u001b[0;36mPassiveEnvChecker.render\u001b[0;34m(self)\u001b[0m\n\u001b[1;32m    301\u001b[0m     \u001b[39mreturn\u001b[39;00m env_render_passive_checker(\u001b[39mself\u001b[39m\u001b[39m.\u001b[39menv)\n\u001b[1;32m    302\u001b[0m \u001b[39melse\u001b[39;00m:\n\u001b[0;32m--> 303\u001b[0m     \u001b[39mreturn\u001b[39;00m \u001b[39mself\u001b[39;49m\u001b[39m.\u001b[39;49menv\u001b[39m.\u001b[39;49mrender()\n",
      "File \u001b[0;32m~/Desktop/DeepRL/rlenvglobal/lib/python3.9/site-packages/gymnasium/envs/box2d/car_racing.py:600\u001b[0m, in \u001b[0;36mCarRacing.render\u001b[0;34m(self)\u001b[0m\n\u001b[1;32m    598\u001b[0m     \u001b[39mreturn\u001b[39;00m\n\u001b[1;32m    599\u001b[0m \u001b[39melse\u001b[39;00m:\n\u001b[0;32m--> 600\u001b[0m     \u001b[39mreturn\u001b[39;00m \u001b[39mself\u001b[39;49m\u001b[39m.\u001b[39;49m_render(\u001b[39mself\u001b[39;49m\u001b[39m.\u001b[39;49mrender_mode)\n",
      "File \u001b[0;32m~/Desktop/DeepRL/rlenvglobal/lib/python3.9/site-packages/gymnasium/envs/box2d/car_racing.py:628\u001b[0m, in \u001b[0;36mCarRacing._render\u001b[0;34m(self, mode)\u001b[0m\n\u001b[1;32m    625\u001b[0m trans \u001b[39m=\u001b[39m pygame\u001b[39m.\u001b[39mmath\u001b[39m.\u001b[39mVector2((scroll_x, scroll_y))\u001b[39m.\u001b[39mrotate_rad(angle)\n\u001b[1;32m    626\u001b[0m trans \u001b[39m=\u001b[39m (WINDOW_W \u001b[39m/\u001b[39m \u001b[39m2\u001b[39m \u001b[39m+\u001b[39m trans[\u001b[39m0\u001b[39m], WINDOW_H \u001b[39m/\u001b[39m \u001b[39m4\u001b[39m \u001b[39m+\u001b[39m trans[\u001b[39m1\u001b[39m])\n\u001b[0;32m--> 628\u001b[0m \u001b[39mself\u001b[39;49m\u001b[39m.\u001b[39;49m_render_road(zoom, trans, angle)\n\u001b[1;32m    629\u001b[0m \u001b[39mself\u001b[39m\u001b[39m.\u001b[39mcar\u001b[39m.\u001b[39mdraw(\n\u001b[1;32m    630\u001b[0m     \u001b[39mself\u001b[39m\u001b[39m.\u001b[39msurf,\n\u001b[1;32m    631\u001b[0m     zoom,\n\u001b[0;32m   (...)\u001b[0m\n\u001b[1;32m    634\u001b[0m     mode \u001b[39mnot\u001b[39;00m \u001b[39min\u001b[39;00m [\u001b[39m\"\u001b[39m\u001b[39mstate_pixels_list\u001b[39m\u001b[39m\"\u001b[39m, \u001b[39m\"\u001b[39m\u001b[39mstate_pixels\u001b[39m\u001b[39m\"\u001b[39m],\n\u001b[1;32m    635\u001b[0m )\n\u001b[1;32m    637\u001b[0m \u001b[39mself\u001b[39m\u001b[39m.\u001b[39msurf \u001b[39m=\u001b[39m pygame\u001b[39m.\u001b[39mtransform\u001b[39m.\u001b[39mflip(\u001b[39mself\u001b[39m\u001b[39m.\u001b[39msurf, \u001b[39mFalse\u001b[39;00m, \u001b[39mTrue\u001b[39;00m)\n",
      "File \u001b[0;32m~/Desktop/DeepRL/rlenvglobal/lib/python3.9/site-packages/gymnasium/envs/box2d/car_racing.py:698\u001b[0m, in \u001b[0;36mCarRacing._render_road\u001b[0;34m(self, zoom, translation, angle)\u001b[0m\n\u001b[1;32m    696\u001b[0m poly \u001b[39m=\u001b[39m [(p[\u001b[39m0\u001b[39m], p[\u001b[39m1\u001b[39m]) \u001b[39mfor\u001b[39;00m p \u001b[39min\u001b[39;00m poly]\n\u001b[1;32m    697\u001b[0m color \u001b[39m=\u001b[39m [\u001b[39mint\u001b[39m(c) \u001b[39mfor\u001b[39;00m c \u001b[39min\u001b[39;00m color]\n\u001b[0;32m--> 698\u001b[0m \u001b[39mself\u001b[39;49m\u001b[39m.\u001b[39;49m_draw_colored_polygon(\u001b[39mself\u001b[39;49m\u001b[39m.\u001b[39;49msurf, poly, color, zoom, translation, angle)\n",
      "File \u001b[0;32m~/Desktop/DeepRL/rlenvglobal/lib/python3.9/site-packages/gymnasium/envs/box2d/car_racing.py:771\u001b[0m, in \u001b[0;36mCarRacing._draw_colored_polygon\u001b[0;34m(self, surface, poly, color, zoom, translation, angle, clip)\u001b[0m\n\u001b[1;32m    768\u001b[0m \u001b[39mdef\u001b[39;00m \u001b[39m_draw_colored_polygon\u001b[39m(\n\u001b[1;32m    769\u001b[0m     \u001b[39mself\u001b[39m, surface, poly, color, zoom, translation, angle, clip\u001b[39m=\u001b[39m\u001b[39mTrue\u001b[39;00m\n\u001b[1;32m    770\u001b[0m ):\n\u001b[0;32m--> 771\u001b[0m     poly \u001b[39m=\u001b[39m [pygame\u001b[39m.\u001b[39mmath\u001b[39m.\u001b[39mVector2(c)\u001b[39m.\u001b[39mrotate_rad(angle) \u001b[39mfor\u001b[39;00m c \u001b[39min\u001b[39;00m poly]\n\u001b[1;32m    772\u001b[0m     poly \u001b[39m=\u001b[39m [\n\u001b[1;32m    773\u001b[0m         (c[\u001b[39m0\u001b[39m] \u001b[39m*\u001b[39m zoom \u001b[39m+\u001b[39m translation[\u001b[39m0\u001b[39m], c[\u001b[39m1\u001b[39m] \u001b[39m*\u001b[39m zoom \u001b[39m+\u001b[39m translation[\u001b[39m1\u001b[39m]) \u001b[39mfor\u001b[39;00m c \u001b[39min\u001b[39;00m poly\n\u001b[1;32m    774\u001b[0m     ]\n\u001b[1;32m    775\u001b[0m     \u001b[39m# This checks if the polygon is out of bounds of the screen, and we skip drawing if so.\u001b[39;00m\n\u001b[1;32m    776\u001b[0m     \u001b[39m# Instead of calculating exactly if the polygon and screen overlap,\u001b[39;00m\n\u001b[1;32m    777\u001b[0m     \u001b[39m# we simply check if the polygon is in a larger bounding box whose dimension\u001b[39;00m\n\u001b[1;32m    778\u001b[0m     \u001b[39m# is greater than the screen by MAX_SHAPE_DIM, which is the maximum\u001b[39;00m\n\u001b[1;32m    779\u001b[0m     \u001b[39m# diagonal length of an environment object\u001b[39;00m\n",
      "File \u001b[0;32m~/Desktop/DeepRL/rlenvglobal/lib/python3.9/site-packages/gymnasium/envs/box2d/car_racing.py:771\u001b[0m, in \u001b[0;36m<listcomp>\u001b[0;34m(.0)\u001b[0m\n\u001b[1;32m    768\u001b[0m \u001b[39mdef\u001b[39;00m \u001b[39m_draw_colored_polygon\u001b[39m(\n\u001b[1;32m    769\u001b[0m     \u001b[39mself\u001b[39m, surface, poly, color, zoom, translation, angle, clip\u001b[39m=\u001b[39m\u001b[39mTrue\u001b[39;00m\n\u001b[1;32m    770\u001b[0m ):\n\u001b[0;32m--> 771\u001b[0m     poly \u001b[39m=\u001b[39m [pygame\u001b[39m.\u001b[39;49mmath\u001b[39m.\u001b[39;49mVector2(c)\u001b[39m.\u001b[39mrotate_rad(angle) \u001b[39mfor\u001b[39;00m c \u001b[39min\u001b[39;00m poly]\n\u001b[1;32m    772\u001b[0m     poly \u001b[39m=\u001b[39m [\n\u001b[1;32m    773\u001b[0m         (c[\u001b[39m0\u001b[39m] \u001b[39m*\u001b[39m zoom \u001b[39m+\u001b[39m translation[\u001b[39m0\u001b[39m], c[\u001b[39m1\u001b[39m] \u001b[39m*\u001b[39m zoom \u001b[39m+\u001b[39m translation[\u001b[39m1\u001b[39m]) \u001b[39mfor\u001b[39;00m c \u001b[39min\u001b[39;00m poly\n\u001b[1;32m    774\u001b[0m     ]\n\u001b[1;32m    775\u001b[0m     \u001b[39m# This checks if the polygon is out of bounds of the screen, and we skip drawing if so.\u001b[39;00m\n\u001b[1;32m    776\u001b[0m     \u001b[39m# Instead of calculating exactly if the polygon and screen overlap,\u001b[39;00m\n\u001b[1;32m    777\u001b[0m     \u001b[39m# we simply check if the polygon is in a larger bounding box whose dimension\u001b[39;00m\n\u001b[1;32m    778\u001b[0m     \u001b[39m# is greater than the screen by MAX_SHAPE_DIM, which is the maximum\u001b[39;00m\n\u001b[1;32m    779\u001b[0m     \u001b[39m# diagonal length of an environment object\u001b[39;00m\n",
      "\u001b[0;31mKeyboardInterrupt\u001b[0m: "
     ]
    }
   ],
   "source": [
    "from gymnasium.wrappers import RecordVideo\n",
    "video_folder = \"carracevideos2\"  # Directory to save the video\n",
    "env = gym.make(\"CarRacing-v3\", render_mode=\"rgb_array\")\n",
    "env = RecordVideo(env, video_folder=video_folder, episode_trigger=lambda x: True)\n",
    "model = PPO.load(\"ppo_carracing_best\", env = env)\n",
    "\n",
    "# Test the trained agent\n",
    "obs, info = env.reset()\n",
    "done = False\n",
    "\n",
    "while not done:\n",
    "    action, _states = model.predict(obs, deterministic=True)\n",
    "    obs, reward, done, truncated, info = env.step(action)\n",
    "\n",
    "env.close()"
   ]
  },
  {
   "cell_type": "code",
   "execution_count": null,
   "metadata": {},
   "outputs": [],
   "source": []
  }
 ],
 "metadata": {
  "kernelspec": {
   "display_name": "rlenvglobal",
   "language": "python",
   "name": "python3"
  },
  "language_info": {
   "codemirror_mode": {
    "name": "ipython",
    "version": 3
   },
   "file_extension": ".py",
   "mimetype": "text/x-python",
   "name": "python",
   "nbconvert_exporter": "python",
   "pygments_lexer": "ipython3",
   "version": "3.9.21"
  },
  "orig_nbformat": 4
 },
 "nbformat": 4,
 "nbformat_minor": 2
}
